{
 "cells": [
  {
   "cell_type": "code",
   "execution_count": 1,
   "metadata": {},
   "outputs": [],
   "source": [
    "import pandas as pd\n",
    "import torch\n",
    "import sklearn as sl\n",
    "import numpy as np\n",
    "from torch import nn\n",
    "import sys\n",
    "sys.path.append(r'C:\\Users\\Luke\\MyRepo\\ReviewGPT')\n",
    "import functions\n"
   ]
  },
  {
   "cell_type": "markdown",
   "metadata": {},
   "source": [
    "## Data Download"
   ]
  },
  {
   "cell_type": "code",
   "execution_count": 2,
   "metadata": {},
   "outputs": [],
   "source": [
    "from adv_functions import downloadData\n",
    "\n",
    "path_train = r\"C:\\Users\\Luke\\MyRepo\\Kaggle\\Competition_2\\Data\\train.csv\"\n",
    "path_test = r\"C:\\Users\\Luke\\MyRepo\\Kaggle\\Competition_2\\Data\\test.csv\"\n",
    "\n",
    "train = downloadData(path_train)\n",
    "test = downloadData(path_test)\n",
    "\n",
    "#Set up response and training data\n",
    "response = pd.get_dummies(train['defects'], drop_first=True, prefix = 'defects')"
   ]
  },
  {
   "cell_type": "code",
   "execution_count": 3,
   "metadata": {},
   "outputs": [
    {
     "data": {
      "text/html": [
       "<div>\n",
       "<style scoped>\n",
       "    .dataframe tbody tr th:only-of-type {\n",
       "        vertical-align: middle;\n",
       "    }\n",
       "\n",
       "    .dataframe tbody tr th {\n",
       "        vertical-align: top;\n",
       "    }\n",
       "\n",
       "    .dataframe thead th {\n",
       "        text-align: right;\n",
       "    }\n",
       "</style>\n",
       "<table border=\"1\" class=\"dataframe\">\n",
       "  <thead>\n",
       "    <tr style=\"text-align: right;\">\n",
       "      <th></th>\n",
       "      <th>id</th>\n",
       "      <th>loc</th>\n",
       "      <th>v(g)</th>\n",
       "      <th>ev(g)</th>\n",
       "      <th>iv(g)</th>\n",
       "      <th>n</th>\n",
       "      <th>v</th>\n",
       "      <th>l</th>\n",
       "      <th>d</th>\n",
       "      <th>i</th>\n",
       "      <th>...</th>\n",
       "      <th>lOCode</th>\n",
       "      <th>lOComment</th>\n",
       "      <th>lOBlank</th>\n",
       "      <th>locCodeAndComment</th>\n",
       "      <th>uniq_Op</th>\n",
       "      <th>uniq_Opnd</th>\n",
       "      <th>total_Op</th>\n",
       "      <th>total_Opnd</th>\n",
       "      <th>branchCount</th>\n",
       "      <th>defects</th>\n",
       "    </tr>\n",
       "  </thead>\n",
       "  <tbody>\n",
       "    <tr>\n",
       "      <th>0</th>\n",
       "      <td>0</td>\n",
       "      <td>22.0</td>\n",
       "      <td>3.0</td>\n",
       "      <td>1.0</td>\n",
       "      <td>2.0</td>\n",
       "      <td>60.0</td>\n",
       "      <td>278.63</td>\n",
       "      <td>0.06</td>\n",
       "      <td>19.56</td>\n",
       "      <td>14.25</td>\n",
       "      <td>...</td>\n",
       "      <td>17</td>\n",
       "      <td>1</td>\n",
       "      <td>1</td>\n",
       "      <td>0</td>\n",
       "      <td>16.0</td>\n",
       "      <td>9.0</td>\n",
       "      <td>38.0</td>\n",
       "      <td>22.0</td>\n",
       "      <td>5.0</td>\n",
       "      <td>False</td>\n",
       "    </tr>\n",
       "    <tr>\n",
       "      <th>1</th>\n",
       "      <td>1</td>\n",
       "      <td>14.0</td>\n",
       "      <td>2.0</td>\n",
       "      <td>1.0</td>\n",
       "      <td>2.0</td>\n",
       "      <td>32.0</td>\n",
       "      <td>151.27</td>\n",
       "      <td>0.14</td>\n",
       "      <td>7.00</td>\n",
       "      <td>21.11</td>\n",
       "      <td>...</td>\n",
       "      <td>11</td>\n",
       "      <td>0</td>\n",
       "      <td>1</td>\n",
       "      <td>0</td>\n",
       "      <td>11.0</td>\n",
       "      <td>11.0</td>\n",
       "      <td>18.0</td>\n",
       "      <td>14.0</td>\n",
       "      <td>3.0</td>\n",
       "      <td>False</td>\n",
       "    </tr>\n",
       "    <tr>\n",
       "      <th>2</th>\n",
       "      <td>2</td>\n",
       "      <td>11.0</td>\n",
       "      <td>2.0</td>\n",
       "      <td>1.0</td>\n",
       "      <td>2.0</td>\n",
       "      <td>45.0</td>\n",
       "      <td>197.65</td>\n",
       "      <td>0.11</td>\n",
       "      <td>8.05</td>\n",
       "      <td>22.76</td>\n",
       "      <td>...</td>\n",
       "      <td>8</td>\n",
       "      <td>0</td>\n",
       "      <td>1</td>\n",
       "      <td>0</td>\n",
       "      <td>12.0</td>\n",
       "      <td>11.0</td>\n",
       "      <td>28.0</td>\n",
       "      <td>17.0</td>\n",
       "      <td>3.0</td>\n",
       "      <td>False</td>\n",
       "    </tr>\n",
       "    <tr>\n",
       "      <th>3</th>\n",
       "      <td>3</td>\n",
       "      <td>8.0</td>\n",
       "      <td>1.0</td>\n",
       "      <td>1.0</td>\n",
       "      <td>1.0</td>\n",
       "      <td>23.0</td>\n",
       "      <td>94.01</td>\n",
       "      <td>0.19</td>\n",
       "      <td>5.25</td>\n",
       "      <td>17.86</td>\n",
       "      <td>...</td>\n",
       "      <td>4</td>\n",
       "      <td>0</td>\n",
       "      <td>2</td>\n",
       "      <td>0</td>\n",
       "      <td>8.0</td>\n",
       "      <td>6.0</td>\n",
       "      <td>16.0</td>\n",
       "      <td>7.0</td>\n",
       "      <td>1.0</td>\n",
       "      <td>True</td>\n",
       "    </tr>\n",
       "    <tr>\n",
       "      <th>4</th>\n",
       "      <td>4</td>\n",
       "      <td>11.0</td>\n",
       "      <td>2.0</td>\n",
       "      <td>1.0</td>\n",
       "      <td>2.0</td>\n",
       "      <td>17.0</td>\n",
       "      <td>60.94</td>\n",
       "      <td>0.18</td>\n",
       "      <td>5.63</td>\n",
       "      <td>12.44</td>\n",
       "      <td>...</td>\n",
       "      <td>7</td>\n",
       "      <td>0</td>\n",
       "      <td>2</td>\n",
       "      <td>0</td>\n",
       "      <td>7.0</td>\n",
       "      <td>6.0</td>\n",
       "      <td>10.0</td>\n",
       "      <td>10.0</td>\n",
       "      <td>3.0</td>\n",
       "      <td>False</td>\n",
       "    </tr>\n",
       "  </tbody>\n",
       "</table>\n",
       "<p>5 rows × 23 columns</p>\n",
       "</div>"
      ],
      "text/plain": [
       "   id   loc  v(g)  ev(g)  iv(g)     n       v     l      d      i  ...  \\\n",
       "0   0  22.0   3.0    1.0    2.0  60.0  278.63  0.06  19.56  14.25  ...   \n",
       "1   1  14.0   2.0    1.0    2.0  32.0  151.27  0.14   7.00  21.11  ...   \n",
       "2   2  11.0   2.0    1.0    2.0  45.0  197.65  0.11   8.05  22.76  ...   \n",
       "3   3   8.0   1.0    1.0    1.0  23.0   94.01  0.19   5.25  17.86  ...   \n",
       "4   4  11.0   2.0    1.0    2.0  17.0   60.94  0.18   5.63  12.44  ...   \n",
       "\n",
       "   lOCode  lOComment  lOBlank  locCodeAndComment  uniq_Op  uniq_Opnd  \\\n",
       "0      17          1        1                  0     16.0        9.0   \n",
       "1      11          0        1                  0     11.0       11.0   \n",
       "2       8          0        1                  0     12.0       11.0   \n",
       "3       4          0        2                  0      8.0        6.0   \n",
       "4       7          0        2                  0      7.0        6.0   \n",
       "\n",
       "   total_Op  total_Opnd  branchCount  defects  \n",
       "0      38.0        22.0          5.0    False  \n",
       "1      18.0        14.0          3.0    False  \n",
       "2      28.0        17.0          3.0    False  \n",
       "3      16.0         7.0          1.0     True  \n",
       "4      10.0        10.0          3.0    False  \n",
       "\n",
       "[5 rows x 23 columns]"
      ]
     },
     "execution_count": 3,
     "metadata": {},
     "output_type": "execute_result"
    }
   ],
   "source": [
    "train.head(5)"
   ]
  },
  {
   "cell_type": "code",
   "execution_count": 4,
   "metadata": {},
   "outputs": [
    {
     "data": {
      "text/html": [
       "<div>\n",
       "<style scoped>\n",
       "    .dataframe tbody tr th:only-of-type {\n",
       "        vertical-align: middle;\n",
       "    }\n",
       "\n",
       "    .dataframe tbody tr th {\n",
       "        vertical-align: top;\n",
       "    }\n",
       "\n",
       "    .dataframe thead th {\n",
       "        text-align: right;\n",
       "    }\n",
       "</style>\n",
       "<table border=\"1\" class=\"dataframe\">\n",
       "  <thead>\n",
       "    <tr style=\"text-align: right;\">\n",
       "      <th></th>\n",
       "      <th>defects_True</th>\n",
       "    </tr>\n",
       "  </thead>\n",
       "  <tbody>\n",
       "    <tr>\n",
       "      <th>0</th>\n",
       "      <td>0</td>\n",
       "    </tr>\n",
       "    <tr>\n",
       "      <th>1</th>\n",
       "      <td>0</td>\n",
       "    </tr>\n",
       "    <tr>\n",
       "      <th>2</th>\n",
       "      <td>0</td>\n",
       "    </tr>\n",
       "    <tr>\n",
       "      <th>3</th>\n",
       "      <td>1</td>\n",
       "    </tr>\n",
       "    <tr>\n",
       "      <th>4</th>\n",
       "      <td>0</td>\n",
       "    </tr>\n",
       "    <tr>\n",
       "      <th>...</th>\n",
       "      <td>...</td>\n",
       "    </tr>\n",
       "    <tr>\n",
       "      <th>101758</th>\n",
       "      <td>0</td>\n",
       "    </tr>\n",
       "    <tr>\n",
       "      <th>101759</th>\n",
       "      <td>0</td>\n",
       "    </tr>\n",
       "    <tr>\n",
       "      <th>101760</th>\n",
       "      <td>0</td>\n",
       "    </tr>\n",
       "    <tr>\n",
       "      <th>101761</th>\n",
       "      <td>0</td>\n",
       "    </tr>\n",
       "    <tr>\n",
       "      <th>101762</th>\n",
       "      <td>0</td>\n",
       "    </tr>\n",
       "  </tbody>\n",
       "</table>\n",
       "<p>101763 rows × 1 columns</p>\n",
       "</div>"
      ],
      "text/plain": [
       "        defects_True\n",
       "0                  0\n",
       "1                  0\n",
       "2                  0\n",
       "3                  1\n",
       "4                  0\n",
       "...              ...\n",
       "101758             0\n",
       "101759             0\n",
       "101760             0\n",
       "101761             0\n",
       "101762             0\n",
       "\n",
       "[101763 rows x 1 columns]"
      ]
     },
     "execution_count": 4,
     "metadata": {},
     "output_type": "execute_result"
    }
   ],
   "source": [
    "response"
   ]
  },
  {
   "cell_type": "markdown",
   "metadata": {},
   "source": [
    "**Data Transform**"
   ]
  },
  {
   "cell_type": "code",
   "execution_count": 5,
   "metadata": {},
   "outputs": [],
   "source": [
    "from adv_functions import transformData\n",
    "\n",
    "transformed_data = transformData(train)\n",
    "predictor_var = transformed_data"
   ]
  },
  {
   "cell_type": "code",
   "execution_count": 6,
   "metadata": {},
   "outputs": [
    {
     "data": {
      "text/html": [
       "<div>\n",
       "<style scoped>\n",
       "    .dataframe tbody tr th:only-of-type {\n",
       "        vertical-align: middle;\n",
       "    }\n",
       "\n",
       "    .dataframe tbody tr th {\n",
       "        vertical-align: top;\n",
       "    }\n",
       "\n",
       "    .dataframe thead th {\n",
       "        text-align: right;\n",
       "    }\n",
       "</style>\n",
       "<table border=\"1\" class=\"dataframe\">\n",
       "  <thead>\n",
       "    <tr style=\"text-align: right;\">\n",
       "      <th></th>\n",
       "      <th>loc</th>\n",
       "      <th>v(g)</th>\n",
       "      <th>ev(g)</th>\n",
       "      <th>iv(g)</th>\n",
       "      <th>n</th>\n",
       "      <th>v</th>\n",
       "      <th>l</th>\n",
       "      <th>d</th>\n",
       "      <th>i</th>\n",
       "      <th>e</th>\n",
       "      <th>...</th>\n",
       "      <th>t</th>\n",
       "      <th>lOCode</th>\n",
       "      <th>lOComment</th>\n",
       "      <th>lOBlank</th>\n",
       "      <th>locCodeAndComment</th>\n",
       "      <th>uniq_Op</th>\n",
       "      <th>uniq_Opnd</th>\n",
       "      <th>total_Op</th>\n",
       "      <th>total_Opnd</th>\n",
       "      <th>branchCount</th>\n",
       "    </tr>\n",
       "  </thead>\n",
       "  <tbody>\n",
       "    <tr>\n",
       "      <th>0</th>\n",
       "      <td>-0.281081</td>\n",
       "      <td>-0.315495</td>\n",
       "      <td>-0.398384</td>\n",
       "      <td>-0.270813</td>\n",
       "      <td>-0.214178</td>\n",
       "      <td>-0.204322</td>\n",
       "      <td>-0.515840</td>\n",
       "      <td>0.416259</td>\n",
       "      <td>-0.582892</td>\n",
       "      <td>-0.080835</td>\n",
       "      <td>...</td>\n",
       "      <td>-0.085031</td>\n",
       "      <td>-0.150553</td>\n",
       "      <td>-0.131124</td>\n",
       "      <td>-0.466891</td>\n",
       "      <td>-0.196819</td>\n",
       "      <td>0.608021</td>\n",
       "      <td>-0.365178</td>\n",
       "      <td>-0.187761</td>\n",
       "      <td>-0.240607</td>\n",
       "      <td>-0.335782</td>\n",
       "    </tr>\n",
       "    <tr>\n",
       "      <th>1</th>\n",
       "      <td>-0.427601</td>\n",
       "      <td>-0.442064</td>\n",
       "      <td>-0.398384</td>\n",
       "      <td>-0.270813</td>\n",
       "      <td>-0.377780</td>\n",
       "      <td>-0.304543</td>\n",
       "      <td>0.283393</td>\n",
       "      <td>-0.473177</td>\n",
       "      <td>-0.282762</td>\n",
       "      <td>-0.104511</td>\n",
       "      <td>...</td>\n",
       "      <td>-0.110447</td>\n",
       "      <td>-0.306231</td>\n",
       "      <td>-0.300546</td>\n",
       "      <td>-0.466891</td>\n",
       "      <td>-0.196819</td>\n",
       "      <td>-0.132769</td>\n",
       "      <td>-0.254462</td>\n",
       "      <td>-0.379080</td>\n",
       "      <td>-0.352195</td>\n",
       "      <td>-0.474548</td>\n",
       "    </tr>\n",
       "    <tr>\n",
       "      <th>2</th>\n",
       "      <td>-0.482545</td>\n",
       "      <td>-0.442064</td>\n",
       "      <td>-0.398384</td>\n",
       "      <td>-0.270813</td>\n",
       "      <td>-0.301822</td>\n",
       "      <td>-0.268046</td>\n",
       "      <td>-0.016319</td>\n",
       "      <td>-0.398822</td>\n",
       "      <td>-0.210573</td>\n",
       "      <td>-0.100223</td>\n",
       "      <td>...</td>\n",
       "      <td>-0.105843</td>\n",
       "      <td>-0.384070</td>\n",
       "      <td>-0.300546</td>\n",
       "      <td>-0.466891</td>\n",
       "      <td>-0.196819</td>\n",
       "      <td>0.015389</td>\n",
       "      <td>-0.254462</td>\n",
       "      <td>-0.283421</td>\n",
       "      <td>-0.310350</td>\n",
       "      <td>-0.474548</td>\n",
       "    </tr>\n",
       "    <tr>\n",
       "      <th>3</th>\n",
       "      <td>-0.537490</td>\n",
       "      <td>-0.568633</td>\n",
       "      <td>-0.398384</td>\n",
       "      <td>-0.451496</td>\n",
       "      <td>-0.430366</td>\n",
       "      <td>-0.349602</td>\n",
       "      <td>0.782914</td>\n",
       "      <td>-0.597104</td>\n",
       "      <td>-0.424952</td>\n",
       "      <td>-0.106941</td>\n",
       "      <td>...</td>\n",
       "      <td>-0.113056</td>\n",
       "      <td>-0.487856</td>\n",
       "      <td>-0.300546</td>\n",
       "      <td>-0.310209</td>\n",
       "      <td>-0.196819</td>\n",
       "      <td>-0.577243</td>\n",
       "      <td>-0.531252</td>\n",
       "      <td>-0.398212</td>\n",
       "      <td>-0.449835</td>\n",
       "      <td>-0.613314</td>\n",
       "    </tr>\n",
       "    <tr>\n",
       "      <th>4</th>\n",
       "      <td>-0.482545</td>\n",
       "      <td>-0.442064</td>\n",
       "      <td>-0.398384</td>\n",
       "      <td>-0.270813</td>\n",
       "      <td>-0.465424</td>\n",
       "      <td>-0.375625</td>\n",
       "      <td>0.683010</td>\n",
       "      <td>-0.570194</td>\n",
       "      <td>-0.662081</td>\n",
       "      <td>-0.107508</td>\n",
       "      <td>...</td>\n",
       "      <td>-0.113664</td>\n",
       "      <td>-0.410017</td>\n",
       "      <td>-0.300546</td>\n",
       "      <td>-0.310209</td>\n",
       "      <td>-0.196819</td>\n",
       "      <td>-0.725401</td>\n",
       "      <td>-0.531252</td>\n",
       "      <td>-0.455607</td>\n",
       "      <td>-0.407989</td>\n",
       "      <td>-0.474548</td>\n",
       "    </tr>\n",
       "  </tbody>\n",
       "</table>\n",
       "<p>5 rows × 21 columns</p>\n",
       "</div>"
      ],
      "text/plain": [
       "        loc      v(g)     ev(g)     iv(g)         n         v         l  \\\n",
       "0 -0.281081 -0.315495 -0.398384 -0.270813 -0.214178 -0.204322 -0.515840   \n",
       "1 -0.427601 -0.442064 -0.398384 -0.270813 -0.377780 -0.304543  0.283393   \n",
       "2 -0.482545 -0.442064 -0.398384 -0.270813 -0.301822 -0.268046 -0.016319   \n",
       "3 -0.537490 -0.568633 -0.398384 -0.451496 -0.430366 -0.349602  0.782914   \n",
       "4 -0.482545 -0.442064 -0.398384 -0.270813 -0.465424 -0.375625  0.683010   \n",
       "\n",
       "          d         i         e  ...         t    lOCode  lOComment   lOBlank  \\\n",
       "0  0.416259 -0.582892 -0.080835  ... -0.085031 -0.150553  -0.131124 -0.466891   \n",
       "1 -0.473177 -0.282762 -0.104511  ... -0.110447 -0.306231  -0.300546 -0.466891   \n",
       "2 -0.398822 -0.210573 -0.100223  ... -0.105843 -0.384070  -0.300546 -0.466891   \n",
       "3 -0.597104 -0.424952 -0.106941  ... -0.113056 -0.487856  -0.300546 -0.310209   \n",
       "4 -0.570194 -0.662081 -0.107508  ... -0.113664 -0.410017  -0.300546 -0.310209   \n",
       "\n",
       "   locCodeAndComment   uniq_Op  uniq_Opnd  total_Op  total_Opnd  branchCount  \n",
       "0          -0.196819  0.608021  -0.365178 -0.187761   -0.240607    -0.335782  \n",
       "1          -0.196819 -0.132769  -0.254462 -0.379080   -0.352195    -0.474548  \n",
       "2          -0.196819  0.015389  -0.254462 -0.283421   -0.310350    -0.474548  \n",
       "3          -0.196819 -0.577243  -0.531252 -0.398212   -0.449835    -0.613314  \n",
       "4          -0.196819 -0.725401  -0.531252 -0.455607   -0.407989    -0.474548  \n",
       "\n",
       "[5 rows x 21 columns]"
      ]
     },
     "execution_count": 6,
     "metadata": {},
     "output_type": "execute_result"
    }
   ],
   "source": [
    "transformed_data.head(5)"
   ]
  },
  {
   "cell_type": "markdown",
   "metadata": {},
   "source": [
    "## Modelling"
   ]
  },
  {
   "cell_type": "code",
   "execution_count": 7,
   "metadata": {},
   "outputs": [],
   "source": [
    "device = (\n",
    "    \"cuda\"\n",
    "    if torch.cuda.is_available()\n",
    "    else \"mps\"\n",
    "    if torch.backends.mps.is_available()\n",
    "    else \"cpu\"\n",
    ")"
   ]
  },
  {
   "cell_type": "code",
   "execution_count": 8,
   "metadata": {},
   "outputs": [
    {
     "ename": "NameError",
     "evalue": "name 'response_var_binary_t' is not defined",
     "output_type": "error",
     "traceback": [
      "\u001b[1;31m---------------------------------------------------------------------------\u001b[0m",
      "\u001b[1;31mNameError\u001b[0m                                 Traceback (most recent call last)",
      "\u001b[1;32mc:\\Users\\Luke\\MyRepo\\Kaggle\\Competition_2\\adv_model.ipynb Cell 11\u001b[0m line \u001b[0;36m1\n\u001b[1;32m----> <a href='vscode-notebook-cell:/c%3A/Users/Luke/MyRepo/Kaggle/Competition_2/adv_model.ipynb#X30sZmlsZQ%3D%3D?line=0'>1</a>\u001b[0m response_var_binary_t\u001b[39m.\u001b[39mshape\n\u001b[0;32m      <a href='vscode-notebook-cell:/c%3A/Users/Luke/MyRepo/Kaggle/Competition_2/adv_model.ipynb#X30sZmlsZQ%3D%3D?line=1'>2</a>\u001b[0m x \u001b[39m=\u001b[39m torch\u001b[39m.\u001b[39msqueeze(response_var_binary_t,\u001b[39m1\u001b[39m)\n",
      "\u001b[1;31mNameError\u001b[0m: name 'response_var_binary_t' is not defined"
     ]
    }
   ],
   "source": [
    "response_var_binary_t.shape\n",
    "x = torch.squeeze(response_var_binary_t,1)\n"
   ]
  },
  {
   "cell_type": "code",
   "execution_count": null,
   "metadata": {},
   "outputs": [
    {
     "data": {
      "text/plain": [
       "torch.Size([91586])"
      ]
     },
     "execution_count": 25,
     "metadata": {},
     "output_type": "execute_result"
    }
   ],
   "source": [
    "x.shape"
   ]
  },
  {
   "cell_type": "code",
   "execution_count": null,
   "metadata": {},
   "outputs": [
    {
     "data": {
      "text/plain": [
       "0         0\n",
       "1         0\n",
       "2         0\n",
       "3         1\n",
       "4         0\n",
       "         ..\n",
       "101758    0\n",
       "101759    0\n",
       "101760    0\n",
       "101761    0\n",
       "101762    0\n",
       "Name: defects_True, Length: 101763, dtype: uint8"
      ]
     },
     "execution_count": 14,
     "metadata": {},
     "output_type": "execute_result"
    }
   ],
   "source": [
    "response['defects_True']"
   ]
  },
  {
   "cell_type": "code",
   "execution_count": null,
   "metadata": {},
   "outputs": [
    {
     "data": {
      "text/plain": [
       "torch.Size([91586, 21])"
      ]
     },
     "execution_count": 27,
     "metadata": {},
     "output_type": "execute_result"
    }
   ],
   "source": [
    "predictor_var_t.shape"
   ]
  },
  {
   "cell_type": "code",
   "execution_count": null,
   "metadata": {},
   "outputs": [
    {
     "data": {
      "text/plain": [
       "tensor([[0.5104],\n",
       "        [0.5108],\n",
       "        [0.5064],\n",
       "        ...,\n",
       "        [0.5029],\n",
       "        [0.5040],\n",
       "        [0.5038]], device='cuda:0', grad_fn=<SigmoidBackward0>)"
      ]
     },
     "execution_count": 11,
     "metadata": {},
     "output_type": "execute_result"
    }
   ],
   "source": [
    "pred_y = model.model(predictor_var_t)\n",
    "pred_y\n"
   ]
  },
  {
   "cell_type": "code",
   "execution_count": null,
   "metadata": {},
   "outputs": [
    {
     "ename": "OutOfMemoryError",
     "evalue": "CUDA out of memory. Tried to allocate 31.25 GiB. GPU 0 has a total capacty of 12.00 GiB of which 10.11 GiB is free. Of the allocated memory 62.83 MiB is allocated by PyTorch, and 21.17 MiB is reserved by PyTorch but unallocated. If reserved but unallocated memory is large try setting max_split_size_mb to avoid fragmentation.  See documentation for Memory Management and PYTORCH_CUDA_ALLOC_CONF",
     "output_type": "error",
     "traceback": [
      "\u001b[1;31m---------------------------------------------------------------------------\u001b[0m",
      "\u001b[1;31mOutOfMemoryError\u001b[0m                          Traceback (most recent call last)",
      "\u001b[1;32mc:\\Users\\Luke\\MyRepo\\Kaggle\\Competition_2\\adv_model.ipynb Cell 16\u001b[0m line \u001b[0;36m1\n\u001b[1;32m----> <a href='vscode-notebook-cell:/c%3A/Users/Luke/MyRepo/Kaggle/Competition_2/adv_model.ipynb#X42sZmlsZQ%3D%3D?line=0'>1</a>\u001b[0m pred_y\u001b[39m-\u001b[39;49mresponse_var_binary_t\n",
      "\u001b[1;31mOutOfMemoryError\u001b[0m: CUDA out of memory. Tried to allocate 31.25 GiB. GPU 0 has a total capacty of 12.00 GiB of which 10.11 GiB is free. Of the allocated memory 62.83 MiB is allocated by PyTorch, and 21.17 MiB is reserved by PyTorch but unallocated. If reserved but unallocated memory is large try setting max_split_size_mb to avoid fragmentation.  See documentation for Memory Management and PYTORCH_CUDA_ALLOC_CONF"
     ]
    }
   ],
   "source": [
    "pred_y-response_var_binary_t"
   ]
  },
  {
   "cell_type": "code",
   "execution_count": null,
   "metadata": {},
   "outputs": [
    {
     "data": {
      "text/plain": [
       "tensor(1., device='cuda:0')"
      ]
     },
     "execution_count": 28,
     "metadata": {},
     "output_type": "execute_result"
    }
   ],
   "source": [
    "(torch.max(pred_y, 10.5) == torch.argmax(x, 1)).float().mean()"
   ]
  },
  {
   "cell_type": "code",
   "execution_count": null,
   "metadata": {},
   "outputs": [
    {
     "data": {
      "text/plain": [
       "tensor([0.5104, 0.5108, 0.5064,  ..., 0.5029, 0.5040, 0.5038], device='cuda:0',\n",
       "       grad_fn=<SqueezeBackward1>)"
      ]
     },
     "execution_count": 24,
     "metadata": {},
     "output_type": "execute_result"
    }
   ],
   "source": [
    "u = torch.squeeze(pred_y,1)\n",
    "u"
   ]
  },
  {
   "cell_type": "code",
   "execution_count": null,
   "metadata": {},
   "outputs": [
    {
     "data": {
      "text/plain": [
       "tensor([1, 0, 0,  ..., 0, 0, 0], device='cuda:0')"
      ]
     },
     "execution_count": 11,
     "metadata": {},
     "output_type": "execute_result"
    }
   ],
   "source": [
    "response_var_binary_t"
   ]
  },
  {
   "cell_type": "code",
   "execution_count": null,
   "metadata": {},
   "outputs": [
    {
     "data": {
      "text/plain": [
       "tensor([[1],\n",
       "        [0],\n",
       "        [0],\n",
       "        ...,\n",
       "        [0],\n",
       "        [0],\n",
       "        [0]], device='cuda:0')"
      ]
     },
     "execution_count": 26,
     "metadata": {},
     "output_type": "execute_result"
    }
   ],
   "source": [
    "x = torch.unsqueeze(response_var_binary_t,1)\n",
    "x"
   ]
  },
  {
   "cell_type": "code",
   "execution_count": null,
   "metadata": {},
   "outputs": [
    {
     "data": {
      "text/plain": [
       "tensor([[0],\n",
       "        [1],\n",
       "        [0],\n",
       "        ...,\n",
       "        [0],\n",
       "        [0],\n",
       "        [0]], device='cuda:0')"
      ]
     },
     "execution_count": 13,
     "metadata": {},
     "output_type": "execute_result"
    }
   ],
   "source": [
    "Y_test_t"
   ]
  },
  {
   "cell_type": "code",
   "execution_count": null,
   "metadata": {},
   "outputs": [
    {
     "data": {
      "text/plain": [
       "tensor([0, 0, 0,  ..., 0, 0, 0], device='cuda:0')"
      ]
     },
     "execution_count": 12,
     "metadata": {},
     "output_type": "execute_result"
    }
   ],
   "source": [
    "torch.argmax(pred_y, 1)"
   ]
  },
  {
   "cell_type": "code",
   "execution_count": null,
   "metadata": {},
   "outputs": [
    {
     "data": {
      "text/plain": [
       "tensor([1.0000, 0.2929, 0.2929,  ..., 0.2929, 0.2929, 0.2929], device='cuda:0')"
      ]
     },
     "execution_count": 10,
     "metadata": {},
     "output_type": "execute_result"
    }
   ],
   "source": [
    "weights"
   ]
  },
  {
   "cell_type": "code",
   "execution_count": 15,
   "metadata": {},
   "outputs": [
    {
     "name": "stdout",
     "output_type": "stream",
     "text": [
      "0    0.293058\n",
      "1    1.000000\n",
      "Name: defects_True, dtype: float64\n",
      "0    0.293139\n",
      "1    1.000000\n",
      "Name: defects_True, dtype: float64\n",
      "NeuralNetwork(\n",
      "  (model): Sequential(\n",
      "    (0): Linear(in_features=21, out_features=21, bias=False)\n",
      "    (1): Linear(in_features=21, out_features=21, bias=False)\n",
      "    (2): Linear(in_features=21, out_features=21, bias=False)\n",
      "    (3): Linear(in_features=21, out_features=1, bias=False)\n",
      "    (4): Sigmoid()\n",
      "  )\n",
      "  (loss_function_train): NLLLoss()\n",
      "  (loss_function_test): NLLLoss()\n",
      ")\n"
     ]
    }
   ],
   "source": [
    "from adv_functions import NeuralNetwork\n",
    "from sklearn.model_selection import train_test_split\n",
    "from adv_functions import  classificationWeightCalculator\n",
    "\n",
    "#Create test and train datasets\n",
    "X_train_binary, X_test_binary, Y_train_binary, Y_test_binary = train_test_split(predictor_var, response, test_size=0.1, random_state=42, stratify=response)\n",
    "\n",
    "#We need to first rebalance the transformed dataset.\n",
    "weights_train = classificationWeightCalculator(\"defects_True\", Y_train_binary, device = device)\n",
    "weights_test = classificationWeightCalculator(\"defects_True\", Y_test_binary, device = device)\n",
    "\n",
    "#Create tensors\n",
    "response_var_binary_t = torch.tensor(Y_train_binary.values, dtype = torch.long).to(device)\n",
    "response_var_binary_t = torch.squeeze(response_var_binary_t, 1)\n",
    "predictor_var_t = torch.tensor(X_train_binary.values, dtype = torch.float).to(device)\n",
    "\n",
    "#Create model\n",
    "n_columns = len(transformed_data.columns)\n",
    "\n",
    "model = NeuralNetwork(n_input = n_columns, n_hidden_layer = n_columns, n_output = 1, learning_rate = 0.001, weights_train = weights_train, weights_test = weights_test).to(device)\n",
    "print(model)"
   ]
  },
  {
   "cell_type": "code",
   "execution_count": 16,
   "metadata": {},
   "outputs": [
    {
     "name": "stdout",
     "output_type": "stream",
     "text": [
      "250 iterations complete, current test accuracy: 0.31, curr entropy: -0.5131831169128418\n",
      "250 iterations complete, current test accuracy: 0.37, curr entropy: -0.5204389095306396\n",
      "250 iterations complete, current test accuracy: 0.45, curr entropy: -0.5290566682815552\n",
      "250 iterations complete, current test accuracy: 0.54, curr entropy: -0.5396813750267029\n",
      "250 iterations complete, current test accuracy: 0.61, curr entropy: -0.553231418132782\n",
      "250 iterations complete, current test accuracy: 0.65, curr entropy: -0.5710453987121582\n",
      "250 iterations complete, current test accuracy: 0.67, curr entropy: -0.5950759053230286\n",
      "250 iterations complete, current test accuracy: 0.68, curr entropy: -0.6280303001403809\n",
      "250 iterations complete, current test accuracy: 0.69, curr entropy: -0.6730121374130249\n",
      "250 iterations complete, current test accuracy: 0.69, curr entropy: -0.7314163446426392\n",
      "250 iterations complete, current test accuracy: 0.69, curr entropy: -0.7981919050216675\n",
      "250 iterations complete, current test accuracy: 0.69, curr entropy: -0.8602742552757263\n",
      "250 iterations complete, current test accuracy: 0.69, curr entropy: -0.9066900014877319\n",
      "250 iterations complete, current test accuracy: 0.69, curr entropy: -0.9368258118629456\n",
      "250 iterations complete, current test accuracy: 0.69, curr entropy: -0.9555190801620483\n",
      "250 iterations complete, current test accuracy: 0.69, curr entropy: -0.9672724008560181\n",
      "250 iterations complete, current test accuracy: 0.69, curr entropy: -0.9749398827552795\n",
      "250 iterations complete, current test accuracy: 0.69, curr entropy: -0.9801543354988098\n",
      "250 iterations complete, current test accuracy: 0.69, curr entropy: -0.9838418960571289\n",
      "250 iterations complete, current test accuracy: 0.69, curr entropy: -0.9865409731864929\n",
      "250 iterations complete, current test accuracy: 0.69, curr entropy: -0.9885761141777039\n",
      "250 iterations complete, current test accuracy: 0.69, curr entropy: -0.990149974822998\n",
      "250 iterations complete, current test accuracy: 0.69, curr entropy: -0.9913941025733948\n",
      "250 iterations complete, current test accuracy: 0.69, curr entropy: -0.9923960566520691\n",
      "250 iterations complete, current test accuracy: 0.69, curr entropy: -0.993216335773468\n",
      "250 iterations complete, current test accuracy: 0.69, curr entropy: -0.9938973784446716\n",
      "250 iterations complete, current test accuracy: 0.69, curr entropy: -0.9944700002670288\n",
      "250 iterations complete, current test accuracy: 0.69, curr entropy: -0.9949565529823303\n",
      "250 iterations complete, current test accuracy: 0.69, curr entropy: -0.9953742623329163\n",
      "250 iterations complete, current test accuracy: 0.69, curr entropy: -0.9957358837127686\n",
      "250 iterations complete, current test accuracy: 0.69, curr entropy: -0.9960514903068542\n",
      "250 iterations complete, current test accuracy: 0.69, curr entropy: -0.9963287711143494\n",
      "250 iterations complete, current test accuracy: 0.69, curr entropy: -0.9965740442276001\n",
      "250 iterations complete, current test accuracy: 0.69, curr entropy: -0.9967922568321228\n",
      "250 iterations complete, current test accuracy: 0.69, curr entropy: -0.9969874024391174\n",
      "250 iterations complete, current test accuracy: 0.69, curr entropy: -0.9971627593040466\n",
      "250 iterations complete, current test accuracy: 0.69, curr entropy: -0.9973210692405701\n",
      "250 iterations complete, current test accuracy: 0.69, curr entropy: -0.9974645376205444\n",
      "250 iterations complete, current test accuracy: 0.69, curr entropy: -0.9975951313972473\n",
      "250 iterations complete, current test accuracy: 0.69, curr entropy: -0.9977144002914429\n",
      "250 iterations complete, current test accuracy: 0.69, curr entropy: -0.9978235960006714\n",
      "250 iterations complete, current test accuracy: 0.69, curr entropy: -0.9979239702224731\n",
      "250 iterations complete, current test accuracy: 0.69, curr entropy: -0.9980165958404541\n",
      "250 iterations complete, current test accuracy: 0.69, curr entropy: -0.9981021285057068\n",
      "250 iterations complete, current test accuracy: 0.69, curr entropy: -0.9981813430786133\n",
      "250 iterations complete, current test accuracy: 0.69, curr entropy: -0.9982548356056213\n",
      "250 iterations complete, current test accuracy: 0.69, curr entropy: -0.998323380947113\n",
      "250 iterations complete, current test accuracy: 0.69, curr entropy: -0.998387336730957\n",
      "250 iterations complete, current test accuracy: 0.69, curr entropy: -0.9984470009803772\n",
      "250 iterations complete, current test accuracy: 0.69, curr entropy: -0.9985028505325317\n",
      "250 iterations complete, current test accuracy: 0.69, curr entropy: -0.9985552430152893\n",
      "250 iterations complete, current test accuracy: 0.69, curr entropy: -0.9986045956611633\n",
      "250 iterations complete, current test accuracy: 0.69, curr entropy: -0.9986509680747986\n",
      "250 iterations complete, current test accuracy: 0.69, curr entropy: -0.9986945986747742\n",
      "250 iterations complete, current test accuracy: 0.69, curr entropy: -0.9987358450889587\n",
      "250 iterations complete, current test accuracy: 0.69, curr entropy: -0.9987748265266418\n",
      "250 iterations complete, current test accuracy: 0.69, curr entropy: -0.9988117218017578\n",
      "250 iterations complete, current test accuracy: 0.69, curr entropy: -0.9988466501235962\n",
      "250 iterations complete, current test accuracy: 0.69, curr entropy: -0.9988798499107361\n",
      "250 iterations complete, current test accuracy: 0.69, curr entropy: -0.9989113807678223\n",
      "250 iterations complete, current test accuracy: 0.69, curr entropy: -0.9989413619041443\n",
      "250 iterations complete, current test accuracy: 0.69, curr entropy: -0.9989699125289917\n",
      "250 iterations complete, current test accuracy: 0.69, curr entropy: -0.9989970326423645\n",
      "250 iterations complete, current test accuracy: 0.69, curr entropy: -0.9990229606628418\n",
      "250 iterations complete, current test accuracy: 0.69, curr entropy: -0.9990476965904236\n",
      "250 iterations complete, current test accuracy: 0.69, curr entropy: -0.9990713596343994\n",
      "250 iterations complete, current test accuracy: 0.69, curr entropy: -0.9990940093994141\n",
      "250 iterations complete, current test accuracy: 0.69, curr entropy: -0.9991156458854675\n",
      "250 iterations complete, current test accuracy: 0.69, curr entropy: -0.9991365075111389\n",
      "250 iterations complete, current test accuracy: 0.69, curr entropy: -0.9991563558578491\n",
      "250 iterations complete, current test accuracy: 0.69, curr entropy: -0.9991753697395325\n",
      "250 iterations complete, current test accuracy: 0.69, curr entropy: -0.9991937279701233\n",
      "250 iterations complete, current test accuracy: 0.69, curr entropy: -0.999211311340332\n",
      "250 iterations complete, current test accuracy: 0.69, curr entropy: -0.9992283582687378\n",
      "250 iterations complete, current test accuracy: 0.69, curr entropy: -0.9992445707321167\n",
      "250 iterations complete, current test accuracy: 0.69, curr entropy: -0.9992602467536926\n",
      "250 iterations complete, current test accuracy: 0.69, curr entropy: -0.9992753863334656\n",
      "250 iterations complete, current test accuracy: 0.69, curr entropy: -0.9992899894714355\n",
      "250 iterations complete, current test accuracy: 0.69, curr entropy: -0.9993040561676025\n",
      "250 iterations complete, current test accuracy: 0.69, curr entropy: -0.9993176460266113\n",
      "250 iterations complete, current test accuracy: 0.69, curr entropy: -0.9993306398391724\n",
      "250 iterations complete, current test accuracy: 0.69, curr entropy: -0.9993433356285095\n",
      "250 iterations complete, current test accuracy: 0.69, curr entropy: -0.9993554949760437\n",
      "250 iterations complete, current test accuracy: 0.69, curr entropy: -0.9993674159049988\n",
      "250 iterations complete, current test accuracy: 0.69, curr entropy: -0.9993788003921509\n",
      "250 iterations complete, current test accuracy: 0.69, curr entropy: -0.9993898868560791\n",
      "250 iterations complete, current test accuracy: 0.69, curr entropy: -0.9994006156921387\n",
      "250 iterations complete, current test accuracy: 0.69, curr entropy: -0.9994109869003296\n",
      "250 iterations complete, current test accuracy: 0.69, curr entropy: -0.9994210004806519\n",
      "250 iterations complete, current test accuracy: 0.69, curr entropy: -0.9994307160377502\n",
      "250 iterations complete, current test accuracy: 0.69, curr entropy: -0.9994402527809143\n",
      "250 iterations complete, current test accuracy: 0.69, curr entropy: -0.9994494318962097\n",
      "250 iterations complete, current test accuracy: 0.69, curr entropy: -0.999458372592926\n",
      "250 iterations complete, current test accuracy: 0.69, curr entropy: -0.9994670748710632\n",
      "250 iterations complete, current test accuracy: 0.69, curr entropy: -0.9994755387306213\n",
      "250 iterations complete, current test accuracy: 0.69, curr entropy: -0.999483585357666\n",
      "250 iterations complete, current test accuracy: 0.69, curr entropy: -0.9994915723800659\n",
      "250 iterations complete, current test accuracy: 0.69, curr entropy: -0.9994993209838867\n",
      "250 iterations complete, current test accuracy: 0.69, curr entropy: -0.9995068311691284\n",
      "250 iterations complete, current test accuracy: 0.69, curr entropy: -0.999514102935791\n",
      "250 iterations complete, current test accuracy: 0.69, curr entropy: -0.9995212554931641\n",
      "250 iterations complete, current test accuracy: 0.69, curr entropy: -0.9995282888412476\n",
      "250 iterations complete, current test accuracy: 0.69, curr entropy: -0.9995349645614624\n",
      "250 iterations complete, current test accuracy: 0.69, curr entropy: -0.9995416402816772\n",
      "250 iterations complete, current test accuracy: 0.69, curr entropy: -0.9995480179786682\n",
      "250 iterations complete, current test accuracy: 0.69, curr entropy: -0.9995542168617249\n",
      "250 iterations complete, current test accuracy: 0.69, curr entropy: -0.9995602965354919\n",
      "250 iterations complete, current test accuracy: 0.69, curr entropy: -0.9995662569999695\n",
      "250 iterations complete, current test accuracy: 0.69, curr entropy: -0.9995720982551575\n",
      "250 iterations complete, current test accuracy: 0.69, curr entropy: -0.9995778203010559\n",
      "250 iterations complete, current test accuracy: 0.69, curr entropy: -0.9995833039283752\n",
      "250 iterations complete, current test accuracy: 0.69, curr entropy: -0.9995887875556946\n",
      "250 iterations complete, current test accuracy: 0.69, curr entropy: -0.9995940327644348\n",
      "250 iterations complete, current test accuracy: 0.69, curr entropy: -0.9995991587638855\n",
      "250 iterations complete, current test accuracy: 0.69, curr entropy: -0.9996042847633362\n",
      "250 iterations complete, current test accuracy: 0.69, curr entropy: -0.9996091723442078\n",
      "250 iterations complete, current test accuracy: 0.69, curr entropy: -0.9996140599250793\n",
      "250 iterations complete, current test accuracy: 0.69, curr entropy: -0.999618649482727\n",
      "250 iterations complete, current test accuracy: 0.69, curr entropy: -0.9996232986450195\n",
      "250 iterations complete, current test accuracy: 0.69, curr entropy: -0.9996278285980225\n",
      "250 iterations complete, current test accuracy: 0.69, curr entropy: -0.9996322393417358\n",
      "250 iterations complete, current test accuracy: 0.69, curr entropy: -0.9996365308761597\n",
      "250 iterations complete, current test accuracy: 0.69, curr entropy: -0.999640703201294\n",
      "250 iterations complete, current test accuracy: 0.69, curr entropy: -0.9996448755264282\n",
      "250 iterations complete, current test accuracy: 0.69, curr entropy: -0.999648928642273\n",
      "250 iterations complete, current test accuracy: 0.69, curr entropy: -0.9996529817581177\n",
      "250 iterations complete, current test accuracy: 0.69, curr entropy: -0.9996567964553833\n",
      "250 iterations complete, current test accuracy: 0.69, curr entropy: -0.9996606111526489\n",
      "250 iterations complete, current test accuracy: 0.69, curr entropy: -0.9996644258499146\n",
      "250 iterations complete, current test accuracy: 0.69, curr entropy: -0.9996680021286011\n",
      "250 iterations complete, current test accuracy: 0.69, curr entropy: -0.9996715784072876\n",
      "250 iterations complete, current test accuracy: 0.69, curr entropy: -0.9996751546859741\n",
      "250 iterations complete, current test accuracy: 0.69, curr entropy: -0.9996786117553711\n",
      "250 iterations complete, current test accuracy: 0.69, curr entropy: -0.9996819496154785\n",
      "250 iterations complete, current test accuracy: 0.69, curr entropy: -0.9996852874755859\n",
      "250 iterations complete, current test accuracy: 0.69, curr entropy: -0.9996886253356934\n",
      "250 iterations complete, current test accuracy: 0.69, curr entropy: -0.9996917247772217\n",
      "250 iterations complete, current test accuracy: 0.69, curr entropy: -0.9996949434280396\n",
      "250 iterations complete, current test accuracy: 0.69, curr entropy: -0.9996980428695679\n",
      "250 iterations complete, current test accuracy: 0.69, curr entropy: -0.9997010231018066\n",
      "250 iterations complete, current test accuracy: 0.69, curr entropy: -0.9997039437294006\n",
      "250 iterations complete, current test accuracy: 0.69, curr entropy: -0.9997069239616394\n",
      "250 iterations complete, current test accuracy: 0.69, curr entropy: -0.9997097849845886\n",
      "250 iterations complete, current test accuracy: 0.69, curr entropy: -0.9997125267982483\n",
      "250 iterations complete, current test accuracy: 0.69, curr entropy: -0.999715268611908\n",
      "250 iterations complete, current test accuracy: 0.69, curr entropy: -0.9997180104255676\n",
      "250 iterations complete, current test accuracy: 0.69, curr entropy: -0.9997207522392273\n",
      "250 iterations complete, current test accuracy: 0.69, curr entropy: -0.9997232556343079\n",
      "250 iterations complete, current test accuracy: 0.69, curr entropy: -0.999725878238678\n",
      "250 iterations complete, current test accuracy: 0.69, curr entropy: -0.9997285008430481\n",
      "250 iterations complete, current test accuracy: 0.69, curr entropy: -0.9997310042381287\n",
      "250 iterations complete, current test accuracy: 0.69, curr entropy: -0.9997333884239197\n",
      "250 iterations complete, current test accuracy: 0.69, curr entropy: -0.9997357726097107\n",
      "250 iterations complete, current test accuracy: 0.69, curr entropy: -0.9997381567955017\n",
      "250 iterations complete, current test accuracy: 0.69, curr entropy: -0.9997405409812927\n",
      "250 iterations complete, current test accuracy: 0.69, curr entropy: -0.9997428059577942\n",
      "250 iterations complete, current test accuracy: 0.69, curr entropy: -0.9997450709342957\n",
      "250 iterations complete, current test accuracy: 0.69, curr entropy: -0.9997473359107971\n",
      "250 iterations complete, current test accuracy: 0.69, curr entropy: -0.999749481678009\n",
      "250 iterations complete, current test accuracy: 0.69, curr entropy: -0.999751627445221\n",
      "250 iterations complete, current test accuracy: 0.69, curr entropy: -0.9997537732124329\n",
      "250 iterations complete, current test accuracy: 0.69, curr entropy: -0.9997559189796448\n",
      "250 iterations complete, current test accuracy: 0.69, curr entropy: -0.9997579455375671\n",
      "250 iterations complete, current test accuracy: 0.69, curr entropy: -0.9997599720954895\n",
      "250 iterations complete, current test accuracy: 0.69, curr entropy: -0.9997619986534119\n",
      "250 iterations complete, current test accuracy: 0.69, curr entropy: -0.9997639060020447\n",
      "250 iterations complete, current test accuracy: 0.69, curr entropy: -0.9997658133506775\n",
      "250 iterations complete, current test accuracy: 0.69, curr entropy: -0.9997677206993103\n",
      "250 iterations complete, current test accuracy: 0.69, curr entropy: -0.9997696280479431\n",
      "250 iterations complete, current test accuracy: 0.69, curr entropy: -0.9997715353965759\n",
      "250 iterations complete, current test accuracy: 0.69, curr entropy: -0.9997733235359192\n",
      "250 iterations complete, current test accuracy: 0.69, curr entropy: -0.9997751116752625\n",
      "250 iterations complete, current test accuracy: 0.69, curr entropy: -0.9997768998146057\n",
      "250 iterations complete, current test accuracy: 0.69, curr entropy: -0.999778687953949\n",
      "250 iterations complete, current test accuracy: 0.69, curr entropy: -0.9997803568840027\n",
      "250 iterations complete, current test accuracy: 0.69, curr entropy: -0.9997820258140564\n",
      "250 iterations complete, current test accuracy: 0.69, curr entropy: -0.9997836947441101\n",
      "250 iterations complete, current test accuracy: 0.69, curr entropy: -0.9997853636741638\n",
      "250 iterations complete, current test accuracy: 0.69, curr entropy: -0.9997870326042175\n",
      "250 iterations complete, current test accuracy: 0.69, curr entropy: -0.9997885823249817\n",
      "250 iterations complete, current test accuracy: 0.69, curr entropy: -0.9997902512550354\n",
      "250 iterations complete, current test accuracy: 0.69, curr entropy: -0.9997918009757996\n",
      "250 iterations complete, current test accuracy: 0.69, curr entropy: -0.9997933506965637\n",
      "250 iterations complete, current test accuracy: 0.69, curr entropy: -0.9997947812080383\n",
      "250 iterations complete, current test accuracy: 0.69, curr entropy: -0.9997963309288025\n",
      "250 iterations complete, current test accuracy: 0.69, curr entropy: -0.9997977614402771\n",
      "250 iterations complete, current test accuracy: 0.69, curr entropy: -0.9997993111610413\n",
      "250 iterations complete, current test accuracy: 0.69, curr entropy: -0.9998007416725159\n",
      "250 iterations complete, current test accuracy: 0.69, curr entropy: -0.9998020529747009\n",
      "250 iterations complete, current test accuracy: 0.69, curr entropy: -0.9998034834861755\n",
      "250 iterations complete, current test accuracy: 0.69, curr entropy: -0.9998049139976501\n",
      "250 iterations complete, current test accuracy: 0.69, curr entropy: -0.9998062252998352\n",
      "250 iterations complete, current test accuracy: 0.69, curr entropy: -0.9998076558113098\n",
      "250 iterations complete, current test accuracy: 0.69, curr entropy: -0.9998089671134949\n",
      "250 iterations complete, current test accuracy: 0.69, curr entropy: -0.9998102784156799\n",
      "250 iterations complete, current test accuracy: 0.69, curr entropy: -0.999811589717865\n",
      "250 iterations complete, current test accuracy: 0.69, curr entropy: -0.99981290102005\n",
      "250 iterations complete, current test accuracy: 0.69, curr entropy: -0.9998142123222351\n",
      "250 iterations complete, current test accuracy: 0.69, curr entropy: -0.9998154044151306\n",
      "250 iterations complete, current test accuracy: 0.69, curr entropy: -0.9998165965080261\n",
      "250 iterations complete, current test accuracy: 0.69, curr entropy: -0.9998179078102112\n",
      "250 iterations complete, current test accuracy: 0.69, curr entropy: -0.9998190999031067\n",
      "250 iterations complete, current test accuracy: 0.69, curr entropy: -0.9998202919960022\n",
      "250 iterations complete, current test accuracy: 0.69, curr entropy: -0.9998213648796082\n",
      "250 iterations complete, current test accuracy: 0.69, curr entropy: -0.9998225569725037\n",
      "250 iterations complete, current test accuracy: 0.69, curr entropy: -0.9998237490653992\n",
      "250 iterations complete, current test accuracy: 0.69, curr entropy: -0.9998248219490051\n",
      "250 iterations complete, current test accuracy: 0.69, curr entropy: -0.9998260140419006\n",
      "250 iterations complete, current test accuracy: 0.69, curr entropy: -0.9998270869255066\n",
      "250 iterations complete, current test accuracy: 0.69, curr entropy: -0.9998281002044678\n",
      "250 iterations complete, current test accuracy: 0.69, curr entropy: -0.9998292922973633\n",
      "250 iterations complete, current test accuracy: 0.69, curr entropy: -0.9998303651809692\n",
      "250 iterations complete, current test accuracy: 0.69, curr entropy: -0.9998314380645752\n",
      "250 iterations complete, current test accuracy: 0.69, curr entropy: -0.9998323917388916\n",
      "250 iterations complete, current test accuracy: 0.69, curr entropy: -0.9998334646224976\n",
      "250 iterations complete, current test accuracy: 0.69, curr entropy: -0.9998345375061035\n",
      "250 iterations complete, current test accuracy: 0.69, curr entropy: -0.9998354911804199\n",
      "250 iterations complete, current test accuracy: 0.69, curr entropy: -0.9998365640640259\n",
      "250 iterations complete, current test accuracy: 0.69, curr entropy: -0.9998375177383423\n",
      "250 iterations complete, current test accuracy: 0.69, curr entropy: -0.9998384714126587\n",
      "250 iterations complete, current test accuracy: 0.69, curr entropy: -0.9998394250869751\n",
      "250 iterations complete, current test accuracy: 0.69, curr entropy: -0.9998403787612915\n",
      "250 iterations complete, current test accuracy: 0.69, curr entropy: -0.9998413324356079\n",
      "250 iterations complete, current test accuracy: 0.69, curr entropy: -0.9998422861099243\n",
      "250 iterations complete, current test accuracy: 0.69, curr entropy: -0.9998432397842407\n",
      "250 iterations complete, current test accuracy: 0.69, curr entropy: -0.9998441934585571\n",
      "250 iterations complete, current test accuracy: 0.69, curr entropy: -0.999845027923584\n",
      "250 iterations complete, current test accuracy: 0.69, curr entropy: -0.9998459815979004\n",
      "250 iterations complete, current test accuracy: 0.69, curr entropy: -0.9998468160629272\n",
      "250 iterations complete, current test accuracy: 0.69, curr entropy: -0.9998476505279541\n",
      "250 iterations complete, current test accuracy: 0.69, curr entropy: -0.9998486042022705\n",
      "250 iterations complete, current test accuracy: 0.69, curr entropy: -0.9998494386672974\n",
      "250 iterations complete, current test accuracy: 0.69, curr entropy: -0.9998502731323242\n",
      "250 iterations complete, current test accuracy: 0.69, curr entropy: -0.9998511075973511\n",
      "250 iterations complete, current test accuracy: 0.69, curr entropy: -0.9998519420623779\n",
      "250 iterations complete, current test accuracy: 0.69, curr entropy: -0.9998527765274048\n",
      "250 iterations complete, current test accuracy: 0.69, curr entropy: -0.9998536109924316\n",
      "250 iterations complete, current test accuracy: 0.69, curr entropy: -0.9998544454574585\n",
      "250 iterations complete, current test accuracy: 0.69, curr entropy: -0.9998552799224854\n",
      "250 iterations complete, current test accuracy: 0.69, curr entropy: -0.9998559951782227\n",
      "250 iterations complete, current test accuracy: 0.69, curr entropy: -0.9998568296432495\n",
      "250 iterations complete, current test accuracy: 0.69, curr entropy: -0.9998575448989868\n",
      "250 iterations complete, current test accuracy: 0.69, curr entropy: -0.9998583793640137\n",
      "250 iterations complete, current test accuracy: 0.69, curr entropy: -0.999859094619751\n",
      "250 iterations complete, current test accuracy: 0.69, curr entropy: -0.9998599290847778\n",
      "250 iterations complete, current test accuracy: 0.69, curr entropy: -0.9998606443405151\n",
      "250 iterations complete, current test accuracy: 0.69, curr entropy: -0.9998613595962524\n",
      "250 iterations complete, current test accuracy: 0.69, curr entropy: -0.9998620748519897\n",
      "250 iterations complete, current test accuracy: 0.69, curr entropy: -0.999862790107727\n",
      "250 iterations complete, current test accuracy: 0.69, curr entropy: -0.9998635053634644\n",
      "250 iterations complete, current test accuracy: 0.69, curr entropy: -0.9998642206192017\n",
      "250 iterations complete, current test accuracy: 0.69, curr entropy: -0.999864935874939\n",
      "250 iterations complete, current test accuracy: 0.69, curr entropy: -0.9998656511306763\n",
      "250 iterations complete, current test accuracy: 0.69, curr entropy: -0.9998663663864136\n",
      "250 iterations complete, current test accuracy: 0.69, curr entropy: -0.9998669624328613\n",
      "250 iterations complete, current test accuracy: 0.69, curr entropy: -0.9998676776885986\n",
      "250 iterations complete, current test accuracy: 0.69, curr entropy: -0.9998683929443359\n",
      "250 iterations complete, current test accuracy: 0.69, curr entropy: -0.9998689889907837\n",
      "250 iterations complete, current test accuracy: 0.69, curr entropy: -0.999869704246521\n",
      "250 iterations complete, current test accuracy: 0.69, curr entropy: -0.9998703002929688\n",
      "250 iterations complete, current test accuracy: 0.69, curr entropy: -0.999871015548706\n",
      "250 iterations complete, current test accuracy: 0.69, curr entropy: -0.9998716115951538\n",
      "250 iterations complete, current test accuracy: 0.69, curr entropy: -0.9998723268508911\n",
      "250 iterations complete, current test accuracy: 0.69, curr entropy: -0.9998729228973389\n",
      "250 iterations complete, current test accuracy: 0.69, curr entropy: -0.9998735189437866\n",
      "250 iterations complete, current test accuracy: 0.69, curr entropy: -0.9998742341995239\n",
      "250 iterations complete, current test accuracy: 0.69, curr entropy: -0.9998748302459717\n",
      "250 iterations complete, current test accuracy: 0.69, curr entropy: -0.9998754262924194\n",
      "250 iterations complete, current test accuracy: 0.69, curr entropy: -0.9998760223388672\n",
      "250 iterations complete, current test accuracy: 0.69, curr entropy: -0.9998766183853149\n",
      "250 iterations complete, current test accuracy: 0.69, curr entropy: -0.9998772144317627\n",
      "250 iterations complete, current test accuracy: 0.69, curr entropy: -0.9998778104782104\n",
      "250 iterations complete, current test accuracy: 0.69, curr entropy: -0.9998784065246582\n",
      "250 iterations complete, current test accuracy: 0.69, curr entropy: -0.999879002571106\n",
      "250 iterations complete, current test accuracy: 0.69, curr entropy: -0.9998795986175537\n",
      "250 iterations complete, current test accuracy: 0.69, curr entropy: -0.9998800754547119\n",
      "250 iterations complete, current test accuracy: 0.69, curr entropy: -0.9998806715011597\n",
      "250 iterations complete, current test accuracy: 0.69, curr entropy: -0.9998812675476074\n",
      "250 iterations complete, current test accuracy: 0.69, curr entropy: -0.9998817443847656\n",
      "250 iterations complete, current test accuracy: 0.69, curr entropy: -0.9998823404312134\n",
      "250 iterations complete, current test accuracy: 0.69, curr entropy: -0.9998828172683716\n",
      "250 iterations complete, current test accuracy: 0.69, curr entropy: -0.9998834133148193\n",
      "250 iterations complete, current test accuracy: 0.69, curr entropy: -0.9998838901519775\n",
      "250 iterations complete, current test accuracy: 0.69, curr entropy: -0.9998844861984253\n",
      "250 iterations complete, current test accuracy: 0.69, curr entropy: -0.9998849630355835\n",
      "250 iterations complete, current test accuracy: 0.69, curr entropy: -0.9998854398727417\n",
      "250 iterations complete, current test accuracy: 0.69, curr entropy: -0.9998860359191895\n",
      "250 iterations complete, current test accuracy: 0.69, curr entropy: -0.9998865127563477\n",
      "250 iterations complete, current test accuracy: 0.69, curr entropy: -0.9998869895935059\n",
      "250 iterations complete, current test accuracy: 0.69, curr entropy: -0.9998874664306641\n",
      "250 iterations complete, current test accuracy: 0.69, curr entropy: -0.9998880624771118\n",
      "250 iterations complete, current test accuracy: 0.69, curr entropy: -0.99988853931427\n",
      "250 iterations complete, current test accuracy: 0.69, curr entropy: -0.9998890161514282\n",
      "250 iterations complete, current test accuracy: 0.69, curr entropy: -0.9998894929885864\n",
      "250 iterations complete, current test accuracy: 0.69, curr entropy: -0.9998899698257446\n",
      "250 iterations complete, current test accuracy: 0.69, curr entropy: -0.9998904466629028\n",
      "250 iterations complete, current test accuracy: 0.69, curr entropy: -0.999890923500061\n",
      "250 iterations complete, current test accuracy: 0.69, curr entropy: -0.9998914003372192\n",
      "250 iterations complete, current test accuracy: 0.69, curr entropy: -0.9998918771743774\n",
      "250 iterations complete, current test accuracy: 0.69, curr entropy: -0.9998923540115356\n",
      "250 iterations complete, current test accuracy: 0.69, curr entropy: -0.9998928308486938\n",
      "250 iterations complete, current test accuracy: 0.69, curr entropy: -0.999893307685852\n",
      "250 iterations complete, current test accuracy: 0.69, curr entropy: -0.9998936653137207\n",
      "250 iterations complete, current test accuracy: 0.69, curr entropy: -0.9998941421508789\n",
      "250 iterations complete, current test accuracy: 0.69, curr entropy: -0.9998946189880371\n",
      "250 iterations complete, current test accuracy: 0.69, curr entropy: -0.9998950958251953\n",
      "250 iterations complete, current test accuracy: 0.69, curr entropy: -0.999895453453064\n",
      "250 iterations complete, current test accuracy: 0.69, curr entropy: -0.9998959302902222\n",
      "250 iterations complete, current test accuracy: 0.69, curr entropy: -0.9998964071273804\n",
      "250 iterations complete, current test accuracy: 0.69, curr entropy: -0.999896764755249\n",
      "250 iterations complete, current test accuracy: 0.69, curr entropy: -0.9998972415924072\n",
      "250 iterations complete, current test accuracy: 0.69, curr entropy: -0.9998975992202759\n",
      "250 iterations complete, current test accuracy: 0.69, curr entropy: -0.9998980760574341\n",
      "250 iterations complete, current test accuracy: 0.69, curr entropy: -0.9998985528945923\n",
      "250 iterations complete, current test accuracy: 0.69, curr entropy: -0.9998989105224609\n",
      "250 iterations complete, current test accuracy: 0.69, curr entropy: -0.9998992681503296\n",
      "250 iterations complete, current test accuracy: 0.69, curr entropy: -0.9998997449874878\n",
      "250 iterations complete, current test accuracy: 0.69, curr entropy: -0.9999001026153564\n",
      "250 iterations complete, current test accuracy: 0.69, curr entropy: -0.9999005794525146\n",
      "250 iterations complete, current test accuracy: 0.69, curr entropy: -0.9999009370803833\n",
      "250 iterations complete, current test accuracy: 0.69, curr entropy: -0.999901294708252\n",
      "250 iterations complete, current test accuracy: 0.69, curr entropy: -0.9999017715454102\n",
      "250 iterations complete, current test accuracy: 0.69, curr entropy: -0.9999021291732788\n",
      "250 iterations complete, current test accuracy: 0.69, curr entropy: -0.9999024868011475\n",
      "250 iterations complete, current test accuracy: 0.69, curr entropy: -0.9999028444290161\n",
      "250 iterations complete, current test accuracy: 0.69, curr entropy: -0.9999033212661743\n",
      "250 iterations complete, current test accuracy: 0.69, curr entropy: -0.999903678894043\n",
      "250 iterations complete, current test accuracy: 0.69, curr entropy: -0.9999040365219116\n",
      "250 iterations complete, current test accuracy: 0.69, curr entropy: -0.9999043941497803\n",
      "250 iterations complete, current test accuracy: 0.69, curr entropy: -0.9999047517776489\n",
      "250 iterations complete, current test accuracy: 0.69, curr entropy: -0.9999051094055176\n",
      "250 iterations complete, current test accuracy: 0.69, curr entropy: -0.9999054670333862\n",
      "250 iterations complete, current test accuracy: 0.69, curr entropy: -0.9999058246612549\n",
      "250 iterations complete, current test accuracy: 0.69, curr entropy: -0.9999061822891235\n",
      "250 iterations complete, current test accuracy: 0.69, curr entropy: -0.9999065399169922\n",
      "250 iterations complete, current test accuracy: 0.69, curr entropy: -0.9999068975448608\n",
      "250 iterations complete, current test accuracy: 0.69, curr entropy: -0.9999072551727295\n",
      "250 iterations complete, current test accuracy: 0.69, curr entropy: -0.9999076128005981\n",
      "250 iterations complete, current test accuracy: 0.69, curr entropy: -0.9999079704284668\n",
      "250 iterations complete, current test accuracy: 0.69, curr entropy: -0.9999083280563354\n",
      "250 iterations complete, current test accuracy: 0.69, curr entropy: -0.9999086856842041\n",
      "250 iterations complete, current test accuracy: 0.69, curr entropy: -0.9999090433120728\n",
      "250 iterations complete, current test accuracy: 0.69, curr entropy: -0.9999092817306519\n",
      "250 iterations complete, current test accuracy: 0.69, curr entropy: -0.9999096393585205\n",
      "250 iterations complete, current test accuracy: 0.69, curr entropy: -0.9999099969863892\n",
      "250 iterations complete, current test accuracy: 0.69, curr entropy: -0.9999103546142578\n",
      "250 iterations complete, current test accuracy: 0.69, curr entropy: -0.9999107122421265\n",
      "250 iterations complete, current test accuracy: 0.69, curr entropy: -0.9999109506607056\n",
      "250 iterations complete, current test accuracy: 0.69, curr entropy: -0.9999113082885742\n",
      "250 iterations complete, current test accuracy: 0.69, curr entropy: -0.9999116659164429\n",
      "250 iterations complete, current test accuracy: 0.69, curr entropy: -0.999911904335022\n",
      "250 iterations complete, current test accuracy: 0.69, curr entropy: -0.9999122619628906\n",
      "250 iterations complete, current test accuracy: 0.69, curr entropy: -0.9999126195907593\n",
      "250 iterations complete, current test accuracy: 0.69, curr entropy: -0.9999128580093384\n",
      "250 iterations complete, current test accuracy: 0.69, curr entropy: -0.999913215637207\n",
      "250 iterations complete, current test accuracy: 0.69, curr entropy: -0.9999135732650757\n",
      "250 iterations complete, current test accuracy: 0.69, curr entropy: -0.9999138116836548\n",
      "250 iterations complete, current test accuracy: 0.69, curr entropy: -0.9999141693115234\n",
      "250 iterations complete, current test accuracy: 0.69, curr entropy: -0.9999144077301025\n",
      "250 iterations complete, current test accuracy: 0.69, curr entropy: -0.9999147653579712\n"
     ]
    },
    {
     "data": {
      "image/png": "[encoded data removed]",
      "text/plain": [
       "<Figure size 640x480 with 1 Axes>"
      ]
     },
     "metadata": {},
     "output_type": "display_data"
    },
    {
     "data": {
      "image/png": "[encoded data removed]",
      "text/plain": [
       "<Figure size 640x480 with 1 Axes>"
      ]
     },
     "metadata": {},
     "output_type": "display_data"
    },
    {
     "name": "stdout",
     "output_type": "stream",
     "text": [
      "best accuracy achieved at iteration 2953 with accuracy 0.69\n"
     ]
    }
   ],
   "source": [
    "#Convert test data to tensors\n",
    "Y_test_t = torch.tensor(Y_test_binary.values, dtype = torch.long).to(device)\n",
    "Y_test_t = torch.squeeze(Y_test_t, 1)\n",
    "X_test_t = torch.tensor(X_test_binary.values, dtype = torch.float).to(device)\n",
    "\n",
    "model.train(x_train = predictor_var_t, y_train = response_var_binary_t, x_test = X_test_t, y_test = Y_test_t, batch_size=90000)"
   ]
  },
  {
   "cell_type": "code",
   "execution_count": null,
   "metadata": {},
   "outputs": [],
   "source": []
  },
  {
   "cell_type": "markdown",
   "metadata": {},
   "source": [
    "## Model Diagnostics ##"
   ]
  },
  {
   "cell_type": "code",
   "execution_count": 17,
   "metadata": {},
   "outputs": [
    {
     "name": "stdout",
     "output_type": "stream",
     "text": [
      "Accuracy: 0.6929350496216959\n",
      "Classification Report:\n",
      "              precision    recall  f1-score   support\n",
      "\n",
      "           0       0.84      0.74      0.79      7870\n",
      "           1       0.38      0.54      0.44      2307\n",
      "\n",
      "    accuracy                           0.69     10177\n",
      "   macro avg       0.61      0.64      0.62     10177\n",
      "weighted avg       0.74      0.69      0.71     10177\n",
      "\n"
     ]
    }
   ],
   "source": [
    "from utils import accuracy\n",
    "\n",
    "X_test_binary_t = torch.tensor(X_test_binary.values, dtype = torch.float32).to(device)\n",
    "\n",
    "predictions_binary = model.model(X_test_binary_t).detach().cpu().numpy()\n",
    "#Turn probability into prediction\n",
    "predictions_binary = np.where(predictions_binary > 0.5, 1, 0)\n",
    "\n",
    "accuracy(Y_test_binary, predictions_binary)"
   ]
  },
  {
   "cell_type": "code",
   "execution_count": null,
   "metadata": {},
   "outputs": [
    {
     "name": "stdout",
     "output_type": "stream",
     "text": [
      "Confusion Matrix:\n",
      "\n",
      "False Positives: 156\n",
      "False Negatives: 166\n",
      "True Positives: 967\n",
      "True Negatives: 977\n"
     ]
    }
   ],
   "source": [
    "from utils import confusionMatrix\n",
    "\n",
    "confusionMatrix(Y_test_binary, predictions_binary)"
   ]
  }
 ],
 "metadata": {
  "kernelspec": {
   "display_name": "Python 3",
   "language": "python",
   "name": "python3"
  },
  "language_info": {
   "codemirror_mode": {
    "name": "ipython",
    "version": 3
   },
   "file_extension": ".py",
   "mimetype": "text/x-python",
   "name": "python",
   "nbconvert_exporter": "python",
   "pygments_lexer": "ipython3",
   "version": "3.10.11"
  },
  "orig_nbformat": 4
 },
 "nbformat": 4,
 "nbformat_minor": 2
}
