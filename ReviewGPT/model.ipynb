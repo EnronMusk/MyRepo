{
 "cells": [
  {
   "cell_type": "markdown",
   "metadata": {},
   "source": [
    "## Packages Import and global model variable assignment\n",
    "Also fetch local openAI api key"
   ]
  },
  {
   "cell_type": "code",
   "execution_count": 1,
   "metadata": {},
   "outputs": [],
   "source": [
    "import pandas as pd\n",
    "import numpy as np\n",
    "import os\n",
    "import openai as ai\n",
    "import xgboost as xgb\n",
    "import sklearn as sl\n",
    "\n",
    "\n",
    "ai.api_key = os.environ.get('AI_API_KEY')\n"
   ]
  },
  {
   "cell_type": "markdown",
   "metadata": {},
   "source": [
    "## Data Download and Cleaning"
   ]
  },
  {
   "cell_type": "code",
   "execution_count": 2,
   "metadata": {},
   "outputs": [],
   "source": [
    "from functions import downloadData\n",
    "\n",
    "path = (r'C:\\Users\\Luke\\Downloads\\reviews_Electronics_5.json')\n",
    "\n",
    "data = downloadData(path = path, n = 10000)"
   ]
  },
  {
   "cell_type": "code",
   "execution_count": 3,
   "metadata": {},
   "outputs": [
    {
     "data": {
      "text/html": [
       "<div>\n",
       "<style scoped>\n",
       "    .dataframe tbody tr th:only-of-type {\n",
       "        vertical-align: middle;\n",
       "    }\n",
       "\n",
       "    .dataframe tbody tr th {\n",
       "        vertical-align: top;\n",
       "    }\n",
       "\n",
       "    .dataframe thead th {\n",
       "        text-align: right;\n",
       "    }\n",
       "</style>\n",
       "<table border=\"1\" class=\"dataframe\">\n",
       "  <thead>\n",
       "    <tr style=\"text-align: right;\">\n",
       "      <th></th>\n",
       "      <th>reviewerID</th>\n",
       "      <th>asin</th>\n",
       "      <th>reviewerName</th>\n",
       "      <th>helpful</th>\n",
       "      <th>reviewText</th>\n",
       "      <th>overall</th>\n",
       "      <th>summary</th>\n",
       "      <th>unixReviewTime</th>\n",
       "      <th>reviewTime</th>\n",
       "    </tr>\n",
       "  </thead>\n",
       "  <tbody>\n",
       "    <tr>\n",
       "      <th>0</th>\n",
       "      <td>AO94DHGC771SJ</td>\n",
       "      <td>0528881469</td>\n",
       "      <td>amazdnu</td>\n",
       "      <td>[0, 0]</td>\n",
       "      <td>We got this GPS for my husband who is an (OTR)...</td>\n",
       "      <td>5</td>\n",
       "      <td>Gotta have GPS!</td>\n",
       "      <td>1370131200</td>\n",
       "      <td>06 2, 2013</td>\n",
       "    </tr>\n",
       "    <tr>\n",
       "      <th>1</th>\n",
       "      <td>AMO214LNFCEI4</td>\n",
       "      <td>0528881469</td>\n",
       "      <td>Amazon Customer</td>\n",
       "      <td>[12, 15]</td>\n",
       "      <td>I'm a professional OTR truck driver, and I bou...</td>\n",
       "      <td>1</td>\n",
       "      <td>Very Disappointed</td>\n",
       "      <td>1290643200</td>\n",
       "      <td>11 25, 2010</td>\n",
       "    </tr>\n",
       "    <tr>\n",
       "      <th>2</th>\n",
       "      <td>A3N7T0DY83Y4IG</td>\n",
       "      <td>0528881469</td>\n",
       "      <td>C. A. Freeman</td>\n",
       "      <td>[43, 45]</td>\n",
       "      <td>Well, what can I say.  I've had this unit in m...</td>\n",
       "      <td>3</td>\n",
       "      <td>1st impression</td>\n",
       "      <td>1283990400</td>\n",
       "      <td>09 9, 2010</td>\n",
       "    </tr>\n",
       "  </tbody>\n",
       "</table>\n",
       "</div>"
      ],
      "text/plain": [
       "       reviewerID        asin     reviewerName   helpful  \\\n",
       "0   AO94DHGC771SJ  0528881469          amazdnu    [0, 0]   \n",
       "1   AMO214LNFCEI4  0528881469  Amazon Customer  [12, 15]   \n",
       "2  A3N7T0DY83Y4IG  0528881469    C. A. Freeman  [43, 45]   \n",
       "\n",
       "                                          reviewText  overall  \\\n",
       "0  We got this GPS for my husband who is an (OTR)...        5   \n",
       "1  I'm a professional OTR truck driver, and I bou...        1   \n",
       "2  Well, what can I say.  I've had this unit in m...        3   \n",
       "\n",
       "             summary  unixReviewTime   reviewTime  \n",
       "0    Gotta have GPS!      1370131200   06 2, 2013  \n",
       "1  Very Disappointed      1290643200  11 25, 2010  \n",
       "2     1st impression      1283990400   09 9, 2010  "
      ]
     },
     "execution_count": 3,
     "metadata": {},
     "output_type": "execute_result"
    }
   ],
   "source": [
    "data.head(3)"
   ]
  },
  {
   "cell_type": "code",
   "execution_count": 4,
   "metadata": {},
   "outputs": [],
   "source": [
    "from functions import transformData\n",
    "\n",
    "transformed_data = transformData(data = data)"
   ]
  },
  {
   "cell_type": "code",
   "execution_count": 5,
   "metadata": {},
   "outputs": [
    {
     "data": {
      "text/html": [
       "<div>\n",
       "<style scoped>\n",
       "    .dataframe tbody tr th:only-of-type {\n",
       "        vertical-align: middle;\n",
       "    }\n",
       "\n",
       "    .dataframe tbody tr th {\n",
       "        vertical-align: top;\n",
       "    }\n",
       "\n",
       "    .dataframe thead th {\n",
       "        text-align: right;\n",
       "    }\n",
       "</style>\n",
       "<table border=\"1\" class=\"dataframe\">\n",
       "  <thead>\n",
       "    <tr style=\"text-align: right;\">\n",
       "      <th></th>\n",
       "      <th>overall</th>\n",
       "      <th>helpful_ratio</th>\n",
       "      <th>overall_positive</th>\n",
       "      <th>excellent</th>\n",
       "      <th>good</th>\n",
       "      <th>great</th>\n",
       "      <th>impressive</th>\n",
       "      <th>satisfactory</th>\n",
       "      <th>outstanding</th>\n",
       "      <th>fantastic</th>\n",
       "      <th>...</th>\n",
       "      <th>troublesome</th>\n",
       "      <th>detestable</th>\n",
       "      <th>abominable</th>\n",
       "      <th>repugnant</th>\n",
       "      <th>lamentable</th>\n",
       "      <th>revolting</th>\n",
       "      <th>displeasing</th>\n",
       "      <th>dismaying</th>\n",
       "      <th>termination</th>\n",
       "      <th>apprehensive</th>\n",
       "    </tr>\n",
       "  </thead>\n",
       "  <tbody>\n",
       "    <tr>\n",
       "      <th>0</th>\n",
       "      <td>4</td>\n",
       "      <td>0.00</td>\n",
       "      <td>1</td>\n",
       "      <td>0</td>\n",
       "      <td>0</td>\n",
       "      <td>1</td>\n",
       "      <td>0</td>\n",
       "      <td>0</td>\n",
       "      <td>0</td>\n",
       "      <td>0</td>\n",
       "      <td>...</td>\n",
       "      <td>0</td>\n",
       "      <td>0</td>\n",
       "      <td>0</td>\n",
       "      <td>0</td>\n",
       "      <td>0</td>\n",
       "      <td>0</td>\n",
       "      <td>0</td>\n",
       "      <td>0</td>\n",
       "      <td>0</td>\n",
       "      <td>0</td>\n",
       "    </tr>\n",
       "    <tr>\n",
       "      <th>1</th>\n",
       "      <td>0</td>\n",
       "      <td>0.75</td>\n",
       "      <td>0</td>\n",
       "      <td>0</td>\n",
       "      <td>0</td>\n",
       "      <td>0</td>\n",
       "      <td>0</td>\n",
       "      <td>0</td>\n",
       "      <td>0</td>\n",
       "      <td>0</td>\n",
       "      <td>...</td>\n",
       "      <td>0</td>\n",
       "      <td>0</td>\n",
       "      <td>0</td>\n",
       "      <td>0</td>\n",
       "      <td>0</td>\n",
       "      <td>0</td>\n",
       "      <td>0</td>\n",
       "      <td>0</td>\n",
       "      <td>0</td>\n",
       "      <td>0</td>\n",
       "    </tr>\n",
       "    <tr>\n",
       "      <th>2</th>\n",
       "      <td>2</td>\n",
       "      <td>0.93</td>\n",
       "      <td>1</td>\n",
       "      <td>0</td>\n",
       "      <td>0</td>\n",
       "      <td>0</td>\n",
       "      <td>0</td>\n",
       "      <td>0</td>\n",
       "      <td>1</td>\n",
       "      <td>0</td>\n",
       "      <td>...</td>\n",
       "      <td>0</td>\n",
       "      <td>0</td>\n",
       "      <td>0</td>\n",
       "      <td>0</td>\n",
       "      <td>0</td>\n",
       "      <td>0</td>\n",
       "      <td>0</td>\n",
       "      <td>0</td>\n",
       "      <td>0</td>\n",
       "      <td>0</td>\n",
       "    </tr>\n",
       "  </tbody>\n",
       "</table>\n",
       "<p>3 rows × 253 columns</p>\n",
       "</div>"
      ],
      "text/plain": [
       "   overall  helpful_ratio  overall_positive  excellent  good  great  \\\n",
       "0        4           0.00                 1          0     0      1   \n",
       "1        0           0.75                 0          0     0      0   \n",
       "2        2           0.93                 1          0     0      0   \n",
       "\n",
       "   impressive  satisfactory  outstanding  fantastic  ...  troublesome  \\\n",
       "0           0             0            0          0  ...            0   \n",
       "1           0             0            0          0  ...            0   \n",
       "2           0             0            1          0  ...            0   \n",
       "\n",
       "   detestable  abominable  repugnant  lamentable  revolting  displeasing  \\\n",
       "0           0           0          0           0          0            0   \n",
       "1           0           0          0           0          0            0   \n",
       "2           0           0          0           0          0            0   \n",
       "\n",
       "   dismaying  termination  apprehensive  \n",
       "0          0            0             0  \n",
       "1          0            0             0  \n",
       "2          0            0             0  \n",
       "\n",
       "[3 rows x 253 columns]"
      ]
     },
     "execution_count": 5,
     "metadata": {},
     "output_type": "execute_result"
    }
   ],
   "source": [
    "transformed_data.head(3)"
   ]
  },
  {
   "cell_type": "markdown",
   "metadata": {},
   "source": [
    "## Data Exploration"
   ]
  },
  {
   "cell_type": "code",
   "execution_count": 6,
   "metadata": {},
   "outputs": [
    {
     "data": {
      "image/png": "[encoded data removed]",
      "text/plain": [
       "<Figure size 640x480 with 1 Axes>"
      ]
     },
     "metadata": {},
     "output_type": "display_data"
    }
   ],
   "source": [
    "from utils import frequencyHistogram\n",
    "\n",
    "frequencyHistogram(\"overall\", transformed_data)"
   ]
  },
  {
   "cell_type": "markdown",
   "metadata": {},
   "source": [
    "## Modelling and Cross Validation\n",
    "We go over the binary GBM, score GBM, binary GPT, and score GPT"
   ]
  },
  {
   "cell_type": "code",
   "execution_count": 7,
   "metadata": {},
   "outputs": [],
   "source": [
    "response_var_binary = transformed_data['overall_positive']\n",
    "response_var = transformed_data['overall']\n",
    "predictor_var = transformed_data.drop(['overall_positive', 'overall'], axis = 1)"
   ]
  },
  {
   "cell_type": "markdown",
   "metadata": {},
   "source": [
    "**Binary GBM**"
   ]
  },
  {
   "cell_type": "code",
   "execution_count": 8,
   "metadata": {},
   "outputs": [],
   "source": [
    "from xgboost import XGBClassifier\n",
    "from sklearn.model_selection import train_test_split, GridSearchCV\n",
    "\n",
    "X_train_binary, X_test_binary, Y_train_binary, Y_test_binary = train_test_split(predictor_var, response_var_binary, test_size=0.1, random_state=42)\n",
    "\n",
    "xgb_classifier = XGBClassifier(random_state=42)\n",
    "\n",
    "# Define the hyperparameter grid to search\n",
    "param_grid = {\n",
    "    'n_estimators': [200, 400, 600],\n",
    "    'max_depth': [3, 4, 5],\n",
    "    'learning_rate': [0.01, 0.05, 0.1],\n",
    "    'subsample': [0.8, 0.9, 1.0],\n",
    "    'colsample_bytree': [0.8, 0.9, 1.0],\n",
    "}\n",
    "\n",
    "grid_search = GridSearchCV(estimator=xgb_classifier, param_grid=param_grid, cv=3, scoring='accuracy', n_jobs = -1)\n",
    "\n",
    "grid_search.fit(X_train_binary, Y_train_binary)\n",
    "best_params = grid_search.best_params_\n",
    "print(\"Best Hyperparameters:\", best_params)\n"
   ]
  },
  {
   "cell_type": "code",
   "execution_count": 9,
   "metadata": {},
   "outputs": [],
   "source": [
    "from xgboost import XGBClassifier\n",
    "\n",
    "#Dataset is unbalnced so we need to adjust weights in scale_pos_weight to account for probabibalistic bias to positive.\n",
    "model_binary = XGBClassifier(objective = 'binary:logistic', eval_metric = 'rmse', n_estimators = 600, learning_rate = 0.05, max_depth = 4, colsample_bytree = 1, subsample = 0.9, scale_pos_weight = (9000-sum(Y_train_binary)) / sum(Y_train_binary))\n",
    "\n",
    "model_binary.fit(X_train_binary, Y_train_binary)\n",
    "predictions_binary = model_binary.predict(X_test_binary)"
   ]
  },
  {
   "cell_type": "markdown",
   "metadata": {},
   "source": [
    "**Binary ChatGPT**\n",
    "\n",
    "First we set up the test dataframe and predictions dataframe"
   ]
  },
  {
   "cell_type": "code",
   "execution_count": 10,
   "metadata": {},
   "outputs": [],
   "source": [
    "#We need to join reviewText and summary as these are the predictors for chat GPT.\n",
    "X_test_binary_gpt = X_test_binary.join(data[['reviewText',\"summary\"]]).sort_index(ascending=True)\n",
    "\n",
    "predictions_binary_gpt_df = pd.DataFrame(columns=['prediction_binary', 'prediction'])"
   ]
  },
  {
   "cell_type": "code",
   "execution_count": 64,
   "metadata": {},
   "outputs": [],
   "source": [
    "from functions import fetchGPT\n",
    "\n",
    "#We need to run this multiple times until all prompts predicted.\n",
    "\n",
    "X_test_binary_gpt, predictions_binary_gpt_df = fetchGPT(X_test_binary_gpt, predictions_binary_gpt_df, Y_test_binary)\n",
    "\n",
    "#Only use predictions when we have all of them computed.\n",
    "predictions_binary_gpt = predictions_binary_gpt_df['prediction_binary'].to_list() if len(Y_test_binary) == len(predictions_binary_gpt_df) else None\n",
    "\n"
   ]
  },
  {
   "cell_type": "markdown",
   "metadata": {},
   "source": [
    "**Score GBM**"
   ]
  },
  {
   "cell_type": "code",
   "execution_count": 79,
   "metadata": {},
   "outputs": [
    {
     "name": "stdout",
     "output_type": "stream",
     "text": [
      "Best Hyperparameters: {'colsample_bytree': 0.8, 'learning_rate': 0.1, 'max_depth': 5, 'n_estimators': 100, 'subsample': 0.8}\n"
     ]
    }
   ],
   "source": [
    "from xgboost import XGBClassifier\n",
    "from sklearn.model_selection import train_test_split, GridSearchCV\n",
    "\n",
    "X_train, X_test, Y_train, Y_test = train_test_split(predictor_var, response_var, test_size=0.1, random_state=42)\n",
    "\n",
    "xgb_classifier = XGBClassifier(random_state=42)\n",
    "\n",
    "# Define the hyperparameter grid to search\n",
    "param_grid = {\n",
    "    'n_estimators': [100, 200, 300],\n",
    "    'max_depth': [3, 4, 5],\n",
    "    'learning_rate': [0.01, 0.05, 0.1],\n",
    "    'subsample': [0.8, 0.9, 1.0],\n",
    "    'colsample_bytree': [0.8, 0.9, 1.0],\n",
    "}\n",
    "\n",
    "grid_search = GridSearchCV(estimator=xgb_classifier, param_grid=param_grid, cv=3, scoring='accuracy', n_jobs = -1)\n",
    "\n",
    "grid_search.fit(X_train, Y_train)\n",
    "\n",
    "# Get the best hyperparameters\n",
    "best_params = grid_search.best_params_\n",
    "print(\"Best Hyperparameters:\", best_params)\n"
   ]
  },
  {
   "cell_type": "code",
   "execution_count": 80,
   "metadata": {},
   "outputs": [],
   "source": [
    "from xgboost import XGBClassifier\n",
    "\n",
    "#Dataset is unbalnced so we need to adjust weights in scale_pos_weight to account for probabibalistic bias to positive.\n",
    "model = XGBClassifier(objective = 'binary:logistic', eval_metric = 'rmse', n_estimators = 300, learning_rate = 0.01, max_depth = 4, colsample_bytree = 0.9, subsample = 0.9)\n",
    "\n",
    "model.fit(X_train, Y_train)\n",
    "predictions = model.predict(X_test)"
   ]
  },
  {
   "cell_type": "markdown",
   "metadata": {},
   "source": [
    "**Score ChatGPT**"
   ]
  },
  {
   "cell_type": "code",
   "execution_count": 81,
   "metadata": {},
   "outputs": [],
   "source": [
    "#We need to join reviewText and summary as these are the predictors for chat GPT.\n",
    "X_test_gpt = X_test.join(data[['reviewText',\"summary\"]]).sort_index(ascending=True)\n",
    "\n",
    "predictions_gpt_df = pd.DataFrame(columns=['prediction_binary', 'prediction'])"
   ]
  },
  {
   "cell_type": "code",
   "execution_count": 127,
   "metadata": {},
   "outputs": [],
   "source": [
    "from functions import fetchGPT\n",
    "\n",
    "#We need to run this multiple times until all promps predicted.\n",
    "\n",
    "X_test_gpt, predictions_gpt_df = fetchGPT(X_test_gpt, predictions_gpt_df, Y_test)\n",
    "\n",
    "#Only use predictions when we have all of them computed.\n",
    "predictions_gpt = predictions_gpt_df['prediction'].to_list() if len(Y_test) == len(predictions_gpt_df) else None\n"
   ]
  },
  {
   "cell_type": "markdown",
   "metadata": {},
   "source": [
    "## Model Diagnostics\n",
    "**Binary GBM**"
   ]
  },
  {
   "cell_type": "code",
   "execution_count": 67,
   "metadata": {},
   "outputs": [
    {
     "name": "stdout",
     "output_type": "stream",
     "text": [
      "Accuracy: 0.742\n",
      "Classification Report:\n",
      "              precision    recall  f1-score   support\n",
      "\n",
      "           0       0.22      0.71      0.34        91\n",
      "           1       0.96      0.74      0.84       909\n",
      "\n",
      "    accuracy                           0.74      1000\n",
      "   macro avg       0.59      0.73      0.59      1000\n",
      "weighted avg       0.90      0.74      0.79      1000\n",
      "\n"
     ]
    }
   ],
   "source": [
    "from utils import accuracy\n",
    "\n",
    "accuracy(Y_test_binary, predictions_binary)"
   ]
  },
  {
   "cell_type": "code",
   "execution_count": 68,
   "metadata": {},
   "outputs": [
    {
     "name": "stdout",
     "output_type": "stream",
     "text": [
      "Confusion Matrix:\n",
      "\n",
      "False Positives: 26\n",
      "False Negatives: 232\n",
      "True Positives: 677\n",
      "True Negatives: 65\n"
     ]
    }
   ],
   "source": [
    "from utils import confusionMatrix\n",
    "\n",
    "confusionMatrix(Y_test_binary, predictions_binary)"
   ]
  },
  {
   "cell_type": "code",
   "execution_count": 69,
   "metadata": {},
   "outputs": [
    {
     "data": {
      "image/png": "[encoded data removed]",
      "text/plain": [
       "<Figure size 640x480 with 1 Axes>"
      ]
     },
     "metadata": {},
     "output_type": "display_data"
    }
   ],
   "source": [
    "from utils import importance\n",
    "\n",
    "importance(model_binary)\n",
    "   "
   ]
  },
  {
   "cell_type": "markdown",
   "metadata": {},
   "source": [
    "**Chat GPT Binary**"
   ]
  },
  {
   "cell_type": "code",
   "execution_count": 75,
   "metadata": {},
   "outputs": [
    {
     "name": "stdout",
     "output_type": "stream",
     "text": [
      "Accuracy: 0.831\n",
      "Classification Report:\n",
      "              precision    recall  f1-score   support\n",
      "\n",
      "           0       0.04      0.03      0.03        91\n",
      "           1       0.90      0.91      0.91       909\n",
      "\n",
      "    accuracy                           0.83      1000\n",
      "   macro avg       0.47      0.47      0.47      1000\n",
      "weighted avg       0.82      0.83      0.83      1000\n",
      "\n"
     ]
    }
   ],
   "source": [
    "from utils import accuracy\n",
    "\n",
    "accuracy(Y_test_binary, predictions_binary_gpt)"
   ]
  },
  {
   "cell_type": "code",
   "execution_count": 76,
   "metadata": {},
   "outputs": [
    {
     "name": "stdout",
     "output_type": "stream",
     "text": [
      "Confusion Matrix:\n",
      "\n",
      "False Positives: 88\n",
      "False Negatives: 81\n",
      "True Positives: 828\n",
      "True Negatives: 3\n"
     ]
    }
   ],
   "source": [
    "from utils import confusionMatrix\n",
    "\n",
    "confusionMatrix(Y_test_binary, predictions_binary_gpt)"
   ]
  },
  {
   "cell_type": "markdown",
   "metadata": {},
   "source": [
    "**Score GBM**"
   ]
  },
  {
   "cell_type": "code",
   "execution_count": 128,
   "metadata": {},
   "outputs": [
    {
     "name": "stdout",
     "output_type": "stream",
     "text": [
      "Accuracy: 0.621\n",
      "Classification Report:\n",
      "              precision    recall  f1-score   support\n",
      "\n",
      "           0       0.25      0.02      0.03        55\n",
      "           1       0.18      0.06      0.09        36\n",
      "           2       0.50      0.01      0.02        85\n",
      "           3       0.25      0.02      0.04       207\n",
      "           4       0.63      0.99      0.77       617\n",
      "\n",
      "    accuracy                           0.62      1000\n",
      "   macro avg       0.36      0.22      0.19      1000\n",
      "weighted avg       0.51      0.62      0.49      1000\n",
      "\n"
     ]
    }
   ],
   "source": [
    "from utils import accuracy\n",
    "\n",
    "accuracy(Y_test, predictions)"
   ]
  },
  {
   "cell_type": "code",
   "execution_count": null,
   "metadata": {},
   "outputs": [
    {
     "data": {
      "image/png": "[encoded data removed]",
      "text/plain": [
       "<Figure size 640x480 with 1 Axes>"
      ]
     },
     "metadata": {},
     "output_type": "display_data"
    }
   ],
   "source": [
    "from utils import importance\n",
    "\n",
    "importance(model)\n",
    "   "
   ]
  },
  {
   "cell_type": "markdown",
   "metadata": {},
   "source": [
    "**Chat GPT Score**"
   ]
  },
  {
   "cell_type": "code",
   "execution_count": 138,
   "metadata": {},
   "outputs": [
    {
     "name": "stdout",
     "output_type": "stream",
     "text": [
      "Accuracy: 0.35\n",
      "Classification Report:\n",
      "              precision    recall  f1-score   support\n",
      "\n",
      "           0       0.00      0.00      0.00        55\n",
      "           1       0.03      0.06      0.04        36\n",
      "           2       0.08      0.08      0.08        85\n",
      "           3       0.21      0.44      0.29       207\n",
      "           4       0.63      0.40      0.49       617\n",
      "\n",
      "    accuracy                           0.35      1000\n",
      "   macro avg       0.19      0.20      0.18      1000\n",
      "weighted avg       0.44      0.35      0.37      1000\n",
      "\n"
     ]
    }
   ],
   "source": [
    "from utils import accuracy\n",
    "\n",
    "accuracy(Y_test, predictions_gpt)"
   ]
  }
 ],
 "metadata": {
  "kernelspec": {
   "display_name": "Python 3",
   "language": "python",
   "name": "python3"
  },
  "language_info": {
   "codemirror_mode": {
    "name": "ipython",
    "version": 3
   },
   "file_extension": ".py",
   "mimetype": "text/x-python",
   "name": "python",
   "nbconvert_exporter": "python",
   "pygments_lexer": "ipython3",
   "version": "3.10.11"
  },
  "orig_nbformat": 4
 },
 "nbformat": 4,
 "nbformat_minor": 2
}
